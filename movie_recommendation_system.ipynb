{
 "cells": [
  {
   "cell_type": "markdown",
   "id": "d0e903be",
   "metadata": {},
   "source": [
    "# 🎬 Movie Recommendation System\n",
    "This notebook builds a simple movie recommendation system using the provided dataset."
   ]
  },
  {
   "cell_type": "code",
   "execution_count": null,
   "id": "81f53a98",
   "metadata": {},
   "outputs": [],
   "source": [
    "import pandas as pd\n",
    "from sklearn.feature_extraction.text import TfidfVectorizer\n",
    "from sklearn.metrics.pairwise import linear_kernel"
   ]
  },
  {
   "cell_type": "code",
   "execution_count": null,
   "id": "4e7c38e3",
   "metadata": {},
   "outputs": [],
   "source": [
    "# Load the movie dataset\n",
    "movies = pd.read_csv(\"movies.csv\")\n",
    "movies.head()"
   ]
  },
  {
   "cell_type": "code",
   "execution_count": null,
   "id": "0a0ef767",
   "metadata": {},
   "outputs": [],
   "source": [
    "# Fill missing genres with empty string\n",
    "movies['genres'] = movies['genres'].fillna(\"\")\n",
    "\n",
    "# Convert genres into TF-IDF features\n",
    "tfidf = TfidfVectorizer(token_pattern=r'[^|]+')\n",
    "tfidf_matrix = tfidf.fit_transform(movies['genres'])\n",
    "\n",
    "# Compute similarity matrix\n",
    "cosine_sim = linear_kernel(tfidf_matrix, tfidf_matrix)"
   ]
  },
  {
   "cell_type": "code",
   "execution_count": null,
   "id": "990b9875",
   "metadata": {},
   "outputs": [],
   "source": [
    "# Build a reverse mapping of movie titles to index\n",
    "indices = pd.Series(movies.index, index=movies['title'])\n",
    "\n",
    "def recommend(title, cosine_sim=cosine_sim):\n",
    "    idx = indices.get(title)\n",
    "    if idx is None:\n",
    "        return \"Movie not found.\"\n",
    "\n",
    "    sim_scores = list(enumerate(cosine_sim[idx]))\n",
    "    sim_scores = sorted(sim_scores, key=lambda x: x[1], reverse=True)\n",
    "    sim_scores = sim_scores[1:11]  # Top 10 similar movies\n",
    "    movie_indices = [i[0] for i in sim_scores]\n",
    "\n",
    "    return movies['title'].iloc[movie_indices]"
   ]
  },
  {
   "cell_type": "code",
   "execution_count": null,
   "id": "4607785a",
   "metadata": {},
   "outputs": [],
   "source": [
    "# Example: Recommend movies similar to 'Toy Story (1995)'\n",
    "recommend(\"Toy Story (1995)\")"
   ]
  }
 ],
 "metadata": {},
 "nbformat": 4,
 "nbformat_minor": 5
}
